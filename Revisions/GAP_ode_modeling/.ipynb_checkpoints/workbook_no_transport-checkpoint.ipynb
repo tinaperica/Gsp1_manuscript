{
 "cells": [
  {
   "cell_type": "markdown",
   "metadata": {},
   "source": [
    "Gsp1 modeling notebook\n",
    "2019 April 24"
   ]
  },
  {
   "cell_type": "code",
   "execution_count": 2,
   "metadata": {},
   "outputs": [],
   "source": [
    "%load_ext autoreload\n",
    "%autoreload 2"
   ]
  },
  {
   "cell_type": "code",
   "execution_count": 3,
   "metadata": {},
   "outputs": [],
   "source": [
    "import os, sys\n",
    "# sys.path.insert(0, \"~/lab/gsp1/ode_modeling/ode_modeler/\")\n",
    "import ode_modeler\n",
    "from ode_modeler import io as io\n",
    "from ode_modeler.runmodel import run\n",
    "import matplotlib.pyplot as plt\n",
    "from labellines import labelLine, labelLines # https://github.com/cphyc/matplotlib-label-lines\n",
    "\n",
    "import numpy as np\n",
    "import pandas as pd\n",
    "import gsp1_plotter\n"
   ]
  },
  {
   "cell_type": "code",
   "execution_count": 4,
   "metadata": {},
   "outputs": [
    {
     "name": "stdout",
     "output_type": "stream",
     "text": [
      "GAP_GEF_kinetic_parameters.csv  ode_no_transport.csv\n",
      "GAP_kinetics.csv                \u001b[1m\u001b[36mout\u001b[m\u001b[m/\n",
      "GEF_kinetics.csv                queries.csv\n",
      "\u001b[1m\u001b[36m__pycache__\u001b[m\u001b[m/                    species.csv\n",
      "full_model.csv                  workbook.ipynb\n",
      "gsp1_plotter.py\n"
     ]
    }
   ],
   "source": [
    "ls"
   ]
  },
  {
   "cell_type": "code",
   "execution_count": 6,
   "metadata": {},
   "outputs": [],
   "source": [
    "model_dir = '/Users/cjmathy/Box/kortemmelab/home/cjmathy_lab/gsp1/ode_modeling/models_curr/20200507/'\n",
    "GAP_file = os.path.join(model_dir,'GAP_kinetics.csv')\n",
    "GEF_file = os.path.join(model_dir,'GEF_kinetics.csv')\n",
    "\n",
    "\n",
    "(pd.merge(pd.read_csv(GAP_file),\n",
    "          pd.read_csv(GEF_file),\n",
    "          how = 'inner', on = 'mutant')\n",
    "    .set_index('mutant')\n",
    "    .assign(kd_GDP = 1.5e-5, ka_GDP = 1.9e6, kd_GTP = 1.1e-4,\n",
    "            ka_GTP = 1e6, k_hyd = 4.59e-5, k_import = 0.5, k_export = 0.1)\n",
    "    .to_csv('GAP_GEF_kinetic_parameters.csv'))"
   ]
  },
  {
   "cell_type": "code",
   "execution_count": 7,
   "metadata": {},
   "outputs": [],
   "source": [
    "# set arguments\n",
    "kwargs = {'species_file': 'species.csv',\n",
    "          'ode_file': 'full_model.csv',\n",
    "          'queries_file': 'GAP_GEF_kinetic_parameters.csv',\n",
    "          'out_dir': io.prepare_out('out/'),\n",
    "          'n_iter': 100,\n",
    "          'ttot': 40,\n",
    "          'plot_species': ['Gsp1GTP','Gsp1GDP'],\n",
    "          'plot_Kms': False,\n",
    "          'out_format': 'png'}\n",
    "\n",
    "# build system\n",
    "species = io.import_species(**kwargs)\n",
    "queries = io.import_queries(**kwargs)"
   ]
  },
  {
   "cell_type": "code",
   "execution_count": 24,
   "metadata": {},
   "outputs": [
    {
     "data": {
      "text/plain": [
       "[K132H]"
      ]
     },
     "execution_count": 24,
     "metadata": {},
     "output_type": "execute_result"
    }
   ],
   "source": [
    "queries[:1]"
   ]
  },
  {
   "cell_type": "code",
   "execution_count": 25,
   "metadata": {},
   "outputs": [
    {
     "name": "stdout",
     "output_type": "stream",
     "text": [
      "K132H\n",
      "CPU times: user 19.6 s, sys: 198 ms, total: 19.8 s\n",
      "Wall time: 20.4 s\n",
      "R78K\n",
      "CPU times: user 20.4 s, sys: 191 ms, total: 20.6 s\n",
      "Wall time: 20.9 s\n",
      "CPU times: user 40.1 s, sys: 391 ms, total: 40.5 s\n",
      "Wall time: 41.3 s\n"
     ]
    }
   ],
   "source": [
    "%%time\n",
    "\n",
    "# run system\n",
    "for query in queries[:2]:\n",
    "    print(query)\n",
    "    %time query.concentrations, query.t = run(species, query.parameters, **kwargs)"
   ]
  },
  {
   "cell_type": "code",
   "execution_count": 37,
   "metadata": {},
   "outputs": [
    {
     "data": {
      "image/png": "[encoded data removed]",
      "text/plain": [
       "<Figure size 432x288 with 1 Axes>"
      ]
     },
     "metadata": {
      "needs_background": "light"
     },
     "output_type": "display_data"
    }
   ],
   "source": [
    "fig = plt.figure()\n",
    "for query in queries[0:2]:\n",
    "\n",
    "    for i, sp in enumerate(['nGsp1GTP','nGsp1GDP']):\n",
    "        Gsp1GTP = species['nGsp1GTP']\n",
    "        Gsp1GDP = species['nGsp1GDP']\n",
    "        Gsp1_tot = Gsp1GTP.conc0 + Gsp1GDP.conc0\n",
    "        \n",
    "        Gsp1GTP_to_GDP_ratio = np.divide(query.concentrations[0][:, Gsp1GTP.index],\n",
    "                          query.concentrations[0][:, Gsp1GDP.index])\n",
    "        \n",
    "        plt.plot(query.t, Gsp1GTP_to_GDP_ratio, label=query.name)\n"
   ]
  },
  {
   "cell_type": "code",
   "execution_count": 211,
   "metadata": {},
   "outputs": [
    {
     "data": {
      "text/plain": [
       "40"
      ]
     },
     "execution_count": 211,
     "metadata": {},
     "output_type": "execute_result"
    }
   ],
   "source": [
    "ttot"
   ]
  },
  {
   "cell_type": "code",
   "execution_count": null,
   "metadata": {},
   "outputs": [],
   "source": []
  },
  {
   "cell_type": "code",
   "execution_count": 258,
   "metadata": {},
   "outputs": [
    {
     "data": {
      "text/plain": [
       "{'nGsp1GTP': nGsp1GTP,\n",
       " 'nGsp1GDP': nGsp1GDP,\n",
       " 'nGsp1': nGsp1,\n",
       " 'cGsp1GTP': cGsp1GTP,\n",
       " 'cGsp1GDP': cGsp1GDP,\n",
       " 'cGsp1': cGsp1,\n",
       " 'GTP': GTP,\n",
       " 'GDP': GDP,\n",
       " 'GAP': GAP,\n",
       " 'GEF': GEF}"
      ]
     },
     "execution_count": 258,
     "metadata": {},
     "output_type": "execute_result"
    }
   ],
   "source": [
    "species"
   ]
  },
  {
   "cell_type": "code",
   "execution_count": null,
   "metadata": {},
   "outputs": [],
   "source": []
  },
  {
   "cell_type": "code",
   "execution_count": 257,
   "metadata": {},
   "outputs": [],
   "source": [
    "ttot = kwargs['ttot']\n",
    "\n",
    "fig = plt.figure(figsize=(18,12))\n",
    "\n",
    "sp_to_plot = ['nGsp1GTP', 'nGsp1GDP',\n",
    "              'cGsp1GTP', 'cGsp1GDP']\n",
    "\n",
    "position = [1,4,2,5]\n",
    "\n",
    "titles = ['nuclear Gsp1GTP', 'nuclear Gsp1GDP',\n",
    "          'cytoplasmic Gsp1GTP', 'cytoplasmic Gsp1GDP']\n",
    "\n",
    "for i, sp in enumerate(sp_to_plot):\n",
    "    ax = plt.subplot(2,3,position[i])\n",
    "\n",
    "    for query in queries:\n",
    "        ax.plot(query.t,query.concentrations[0][:, species[sp].index],\n",
    "                label=query.name)\n",
    "    plt.title(titles[i])\n",
    "    plt.ylabel('Concentration (uM)')\n",
    "    plt.xlabel('Time (seconds)')\n",
    "    plt.legend()\n",
    "    labelLines(plt.gca().get_lines(), xvals=(0, 40), zorder=2.5, fontsize = 8,\n",
    "               backgroundcolor = 'none', alpha=1, color = 'black')\n",
    "    plt.grid(True)\n",
    "\n",
    "ax = plt.subplot(2,3,3)\n",
    "\n",
    "for query in queries:\n",
    "    ratio = np.divide(query.concentrations[0][:, species['nGsp1GTP'].index],\n",
    "                      query.concentrations[0][:, species['cGsp1GDP'].index])\n",
    "    ax.plot(query.t, ratio, label=query.name)\n",
    "    \n",
    "plt.title('nuclear Gsp1GTP over cytoplasmic Gsp1GTP')\n",
    "plt.ylabel('Ratio')\n",
    "plt.xlabel('Time (seconds)')\n",
    "plt.legend()\n",
    "labelLines(plt.gca().get_lines(), xvals=(0, 40), zorder=2.5, fontsize = 8,\n",
    "               backgroundcolor = 'none', alpha=1, color = 'black')\n",
    "plt.grid(True)\n",
    "\n",
    "ax = plt.subplot(2,3,6)\n",
    "\n",
    "for query in queries:\n",
    "    ratio = np.divide(query.concentrations[0][:, species['nGsp1GTP'].index],\n",
    "                      query.concentrations[0][:, species['nGsp1GDP'].index])\n",
    "    ax.plot(query.t, ratio, label=query.name)\n",
    "    \n",
    "plt.title('nuclear Gsp1GTP over nuclear Gsp1GDP')\n",
    "plt.ylabel('Ratio')\n",
    "plt.xlabel('Time (seconds)')\n",
    "plt.legend()\n",
    "labelLines(plt.gca().get_lines(), xvals=(0, 40), zorder=2.5, fontsize = 8,\n",
    "               backgroundcolor = 'none', alpha=1, color = 'black')\n",
    "plt.grid(True)\n",
    "\n",
    "\n",
    "plt.savefig('Gsp1_concentration_curves.png')\n",
    "plt.close()"
   ]
  },
  {
   "cell_type": "code",
   "execution_count": null,
   "metadata": {},
   "outputs": [],
   "source": []
  },
  {
   "cell_type": "code",
   "execution_count": null,
   "metadata": {},
   "outputs": [],
   "source": []
  },
  {
   "cell_type": "code",
   "execution_count": null,
   "metadata": {},
   "outputs": [],
   "source": []
  },
  {
   "cell_type": "code",
   "execution_count": 141,
   "metadata": {},
   "outputs": [],
   "source": [
    "# prepare output summary table and graphs\n",
    "io.final_conc_table(species, queries, **kwargs)"
   ]
  },
  {
   "cell_type": "code",
   "execution_count": null,
   "metadata": {},
   "outputs": [],
   "source": []
  }
 ],
 "metadata": {
  "kernelspec": {
   "display_name": "Python 3",
   "language": "python",
   "name": "python3"
  },
  "language_info": {
   "codemirror_mode": {
    "name": "ipython",
    "version": 3
   },
   "file_extension": ".py",
   "mimetype": "text/x-python",
   "name": "python",
   "nbconvert_exporter": "python",
   "pygments_lexer": "ipython3",
   "version": "3.7.6"
  }
 },
 "nbformat": 4,
 "nbformat_minor": 4
}
