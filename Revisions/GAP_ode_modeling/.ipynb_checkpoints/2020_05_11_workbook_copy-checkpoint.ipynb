{
 "cells": [
  {
   "cell_type": "markdown",
   "metadata": {},
   "source": [
    "## GAP progress curve simulation\n",
    "### 2020-05-11\n",
    "\n",
    "Tanja:\n",
    "The NMR data suggest that the two observable Gsp1 states g1 and g2 are in slow exchange.  The Geyer et al paper gives rather broad estimates of the exchange rate with an upper limit of approx 200 sec-1 and a lower limit of approx 10-3 sec-1.  If we assume a rate on the slower end, it would be much slower than the observed kcat (~5-10 sec-1).  So if hydrolysis is much faster than Gsp1 state interconversion, and if g2 is the catalytically relevant conformation of Gsp1, effectively only the g2 population of Gsp1 is available for the reaction.  With these assumptions, the Km - substrate concentration needed for 0.5 vmax - should be proportional to the fraction of total Gsp1 in the g2 state. Since we have estimates of the rates, perhaps it makes sense to model to see the effect of the assumptions, Chris, what do you think?\n",
    "\n",
    "Chris:\n",
    "Since to the limit of our sensitivity no g2 population is observed for the T34Q or T34E mutants, would that suggest that the exchange between conformations is the rate limiting step in their reactions? I think I did a poor job of voicing this in group meeting, but I just wonder if the system is better described by having two Km’s - one Km for the g2 population and one Km for the g1 population (even if their kcat’s are the same). That would simplify our understanding of the behavior of T34Q/E. I will prepare the kinetic model with MM constants and under the assumption that Gsp1:GTP_state1 does not react with GAP to test these assumptions, and that should clue us in to whether the k_exchange is rate limiting for some mutants.\n",
    "\n",
    "Tasks:\n",
    "- build a model with four species:\n",
    "    - Gsp1GTP(I)\n",
    "    - Gsp1GTP(II)\n",
    "    - Gsp1GDP\n",
    "    - GAP\n",
    "- For the parameters, use the following\n",
    "    - GAP-mediated hydrolysis: MM using measured kcat and Km\n",
    "    - NO Gsp1GTP hydrolysis intrinsic hydrolysis (can add in later)\n",
    "    - Gsp1GTP(I) and (II) interconversion: the parameter being adjusted for testing\n",
    "- Question being asked: Is the Km proportional to the fraction of total Gsp1 in the g2 state?\n",
    "- How to ask it? Start with wildtype parameters. Make progress curve."
   ]
  },
  {
   "cell_type": "code",
   "execution_count": 21,
   "metadata": {},
   "outputs": [
    {
     "name": "stdout",
     "output_type": "stream",
     "text": [
      "The autoreload extension is already loaded. To reload it, use:\n",
      "  %reload_ext autoreload\n"
     ]
    }
   ],
   "source": [
    "%load_ext autoreload\n",
    "%autoreload 2"
   ]
  },
  {
   "cell_type": "code",
   "execution_count": 35,
   "metadata": {},
   "outputs": [],
   "source": [
    "import os, sys\n",
    "import numpy as np\n",
    "import pandas as pd\n",
    "import matplotlib.pyplot as plt\n",
    "import seaborn as sns\n",
    "\n",
    "import ode_modeler\n",
    "from ode_modeler import io as io\n",
    "from ode_modeler.runmodel import run\n",
    "from labellines import labelLine, labelLines # https://github.com/cphyc/matplotlib-label-lines\n",
    "\n",
    "# GAP_data = pd.read_csv('GAP_kinetics.csv')"
   ]
  },
  {
   "cell_type": "code",
   "execution_count": 36,
   "metadata": {},
   "outputs": [],
   "source": [
    "# set arguments\n",
    "kwargs = {'species_file': 'species.csv',\n",
    "          'ode_file': 'ode.csv',\n",
    "          'queries_file': 'queries.csv',\n",
    "          'out_dir': io.prepare_out('.'),\n",
    "          'n_iter': 100,\n",
    "          'ttot': 6000,\n",
    "          'full_output': False,\n",
    "          'plot_species': ['Gsp1GTP','Gsp1GDP'],\n",
    "          'plot_Kms': False,\n",
    "          'out_format': 'png'}\n",
    "\n",
    "# build system\n",
    "\n",
    "queries = io.import_queries(**kwargs)\n",
    "\n",
    "query = queries[0]\n",
    "\n",
    "# for query in queries:\n",
    "#     query.concentrations, query.t = run(species, query.parameters, **kwargs)"
   ]
  },
  {
   "cell_type": "code",
   "execution_count": 42,
   "metadata": {},
   "outputs": [
    {
     "data": {
      "text/plain": [
       "{'kcat': 8.9, 'Km': 0.4, 'k_ex': 0.001}"
      ]
     },
     "execution_count": 42,
     "metadata": {},
     "output_type": "execute_result"
    }
   ],
   "source": [
    "# import species information\n",
    "species = io.import_species(**kwargs)\n",
    "\n",
    "# create a WT query\n",
    "q = ode_modeler.io.Query()\n",
    "q.name = 'WT'\n",
    "q.parameters.update({'kcat':8.9, 'Km':0.4, 'k_ex':0.001})\n",
    "q.df = run(species, q.parameters, **kwargs)\n",
    "\n",
    "queries = [q]\n",
    "\n",
    "kcat_adj = np.logspace(start=-1, stop=1, num=3)\n",
    "\n",
    "\n",
    "\n",
    "for adj in kcat_adj:\n",
    "    q = query.deep_copy()\n",
    "    q.parameters['kcat'] = q.parameters['kcat']*adj\n",
    "    \n",
    "    q.df = run(species, q.parameters, **kwargs)"
   ]
  },
  {
   "cell_type": "code",
   "execution_count": 31,
   "metadata": {},
   "outputs": [
    {
     "data": {
      "text/plain": [
       "[(0.8545371341681446, 0.22957019267094914, 0.2762321841840895),\n",
       " (0.9500711989921715, 0.7355570006086883, 0.7515733032957372),\n",
       " (0.95, 0.95, 0.95),\n",
       " (0.7425561788180662, 0.8339389854255116, 0.8619932203157336),\n",
       " (0.24715576253545835, 0.49918708160096653, 0.5765599057376697)]"
      ]
     },
     "execution_count": 31,
     "metadata": {},
     "output_type": "execute_result"
    }
   ],
   "source": [
    "sns.diverging_palette(10, 220, sep=80, n=5)"
   ]
  },
  {
   "cell_type": "code",
   "execution_count": 26,
   "metadata": {},
   "outputs": [
    {
     "data": {
      "text/plain": [
       "<matplotlib.axes._subplots.AxesSubplot at 0x1237a5190>"
      ]
     },
     "execution_count": 26,
     "metadata": {},
     "output_type": "execute_result"
    },
    {
     "data": {
      "image/png": "[encoded data removed]",
      "text/plain": [
       "<Figure size 432x288 with 1 Axes>"
      ]
     },
     "metadata": {
      "needs_background": "light"
     },
     "output_type": "display_data"
    }
   ],
   "source": [
    "sns.lineplot(data=pd.melt(df, id_vars='t', var_name='species', value_name='concentration'),\n",
    "             x = 't',\n",
    "             y = 'concentration',\n",
    "             hue = 'species',\n",
    "             palette=sns.diverging_palette(10, 220, sep=80, n=4))"
   ]
  },
  {
   "cell_type": "code",
   "execution_count": 34,
   "metadata": {},
   "outputs": [
    {
     "data": {
      "text/plain": [
       "2"
      ]
     },
     "execution_count": 34,
     "metadata": {},
     "output_type": "execute_result"
    }
   ],
   "source": [
    "len(queries)"
   ]
  },
  {
   "cell_type": "code",
   "execution_count": 11,
   "metadata": {},
   "outputs": [
    {
     "ename": "ValueError",
     "evalue": "too many values to unpack (expected 2)",
     "output_type": "error",
     "traceback": [
      "\u001b[0;31m---------------------------------------------------------------------------\u001b[0m",
      "\u001b[0;31mValueError\u001b[0m                                Traceback (most recent call last)",
      "\u001b[0;32m<ipython-input-11-ada34f0a7a22>\u001b[0m in \u001b[0;36m<module>\u001b[0;34m\u001b[0m\n\u001b[1;32m     10\u001b[0m     \u001b[0mq\u001b[0m\u001b[0;34m.\u001b[0m\u001b[0mparameters\u001b[0m\u001b[0;34m[\u001b[0m\u001b[0;34m'kcat'\u001b[0m\u001b[0;34m]\u001b[0m \u001b[0;34m=\u001b[0m \u001b[0mq\u001b[0m\u001b[0;34m.\u001b[0m\u001b[0mparameters\u001b[0m\u001b[0;34m[\u001b[0m\u001b[0;34m'kcat'\u001b[0m\u001b[0;34m]\u001b[0m\u001b[0;34m*\u001b[0m\u001b[0madj\u001b[0m\u001b[0;34m\u001b[0m\u001b[0;34m\u001b[0m\u001b[0m\n\u001b[1;32m     11\u001b[0m \u001b[0;34m\u001b[0m\u001b[0m\n\u001b[0;32m---> 12\u001b[0;31m     \u001b[0mq\u001b[0m\u001b[0;34m.\u001b[0m\u001b[0mconcentrations\u001b[0m\u001b[0;34m,\u001b[0m \u001b[0mq\u001b[0m\u001b[0;34m.\u001b[0m\u001b[0mt\u001b[0m \u001b[0;34m=\u001b[0m \u001b[0mrun\u001b[0m\u001b[0;34m(\u001b[0m\u001b[0mspecies\u001b[0m\u001b[0;34m,\u001b[0m \u001b[0mq\u001b[0m\u001b[0;34m.\u001b[0m\u001b[0mparameters\u001b[0m\u001b[0;34m,\u001b[0m \u001b[0;34m**\u001b[0m\u001b[0mkwargs\u001b[0m\u001b[0;34m)\u001b[0m\u001b[0;34m\u001b[0m\u001b[0;34m\u001b[0m\u001b[0m\n\u001b[0m\u001b[1;32m     13\u001b[0m     \u001b[0mg2\u001b[0m \u001b[0;34m=\u001b[0m \u001b[0mspecies\u001b[0m\u001b[0;34m[\u001b[0m\u001b[0;34m'Gsp1GTP_II'\u001b[0m\u001b[0;34m]\u001b[0m\u001b[0;34m\u001b[0m\u001b[0;34m\u001b[0m\u001b[0m\n\u001b[1;32m     14\u001b[0m     \u001b[0mg1\u001b[0m \u001b[0;34m=\u001b[0m \u001b[0mspecies\u001b[0m\u001b[0;34m[\u001b[0m\u001b[0;34m'Gsp1GTP_I'\u001b[0m\u001b[0;34m]\u001b[0m\u001b[0;34m\u001b[0m\u001b[0;34m\u001b[0m\u001b[0m\n",
      "\u001b[0;31mValueError\u001b[0m: too many values to unpack (expected 2)"
     ]
    }
   ],
   "source": [
    "\n",
    "# parameters to tune: kcat\n",
    "\n",
    "\n",
    "kcat_adj = np.logspace(start=-1, stop=1, num=3)\n",
    "\n",
    "\n",
    "\n",
    "for adj in kcat_adj:\n",
    "    q = query.deep_copy()\n",
    "    q.parameters['kcat'] = q.parameters['kcat']*adj\n",
    "    \n",
    "    q.df = run(species, q.parameters, **kwargs)\n",
    "    \n",
    "    \n",
    "    \n",
    "    \n",
    "#     g2 = species['Gsp1GTP_II']\n",
    "#     g1 = species['Gsp1GTP_I']\n",
    "#     gsp1gdp = species['Gsp1GDP']\n",
    "\n",
    "#     total_gsp1 = g2.conc0 + g1.conc0\n",
    "#     gsp1gdp_conc = q.concentrations[0][:, gsp1gdp.index]\n",
    "#     cmap = sns.diverging_palette(10, 220, sep=80, n=3, as_cmap=True)\n",
    "\n",
    "#     plt.plot(q.t/60, gsp1gdp_conc/total_gsp1,\n",
    "#              label=adj, cmap=cmap)\n",
    "    \n",
    "# plt.xlabel('minutes')\n",
    "# plt.ylabel('Gsp1GTP hydrolyzed')\n",
    "# plt.legend(title='kcat adjustment')\n",
    "# plt.show()\n"
   ]
  },
  {
   "cell_type": "code",
   "execution_count": 52,
   "metadata": {},
   "outputs": [
    {
     "data": {
      "text/plain": [
       "{'kcat': 8.9, 'Km': 0.4, 'k_ex': 0.001}"
      ]
     },
     "execution_count": 52,
     "metadata": {},
     "output_type": "execute_result"
    }
   ],
   "source": [
    "query.parameters"
   ]
  },
  {
   "cell_type": "code",
   "execution_count": 13,
   "metadata": {},
   "outputs": [
    {
     "data": {
      "image/png": "[encoded data removed]",
      "text/plain": [
       "<Figure size 432x288 with 1 Axes>"
      ]
     },
     "metadata": {
      "needs_background": "light"
     },
     "output_type": "display_data"
    }
   ],
   "source": [
    "fig = plt.figure()\n",
    "\n",
    "for query in queries: \n",
    "    g2 = species['Gsp1GTP_II']\n",
    "    g1 = species['Gsp1GTP_I']\n",
    "    gsp1gdp = species['Gsp1GDP']\n",
    "\n",
    "    total_gsp1 = g2.conc0 + g1.conc0\n",
    "    gsp1gdp_conc = query.concentrations[0][:, gsp1gdp.index]\n",
    "\n",
    "    plt.plot(query.t/60, gsp1gdp_conc/total_gsp1, label=query.name)\n",
    "\n",
    "plt.xlabel('minutes')\n",
    "plt.ylabel('Gsp1GTP hydrolyzed')\n",
    "plt.legend()\n",
    "plt.show()"
   ]
  },
  {
   "cell_type": "code",
   "execution_count": 22,
   "metadata": {},
   "outputs": [
    {
     "ename": "TypeError",
     "evalue": "only integer scalar arrays can be converted to a scalar index",
     "output_type": "error",
     "traceback": [
      "\u001b[0;31m---------------------------------------------------------------------------\u001b[0m",
      "\u001b[0;31mTypeError\u001b[0m                                 Traceback (most recent call last)",
      "\u001b[0;32m<ipython-input-22-2f99f2671872>\u001b[0m in \u001b[0;36m<module>\u001b[0;34m\u001b[0m\n\u001b[1;32m      8\u001b[0m     \u001b[0mgdp_conc\u001b[0m \u001b[0;34m=\u001b[0m \u001b[0mquery\u001b[0m\u001b[0;34m.\u001b[0m\u001b[0mconcentrations\u001b[0m\u001b[0;34m[\u001b[0m\u001b[0;36m0\u001b[0m\u001b[0;34m]\u001b[0m\u001b[0;34m[\u001b[0m\u001b[0;34m:\u001b[0m\u001b[0;34m,\u001b[0m \u001b[0mgsp1gdp\u001b[0m\u001b[0;34m.\u001b[0m\u001b[0mindex\u001b[0m\u001b[0;34m]\u001b[0m\u001b[0;34m\u001b[0m\u001b[0;34m\u001b[0m\u001b[0m\n\u001b[1;32m      9\u001b[0m \u001b[0;34m\u001b[0m\u001b[0m\n\u001b[0;32m---> 10\u001b[0;31m     \u001b[0mfrac_g2\u001b[0m \u001b[0;34m=\u001b[0m \u001b[0mnp\u001b[0m\u001b[0;34m.\u001b[0m\u001b[0mdivide\u001b[0m\u001b[0;34m(\u001b[0m\u001b[0mg2_conc\u001b[0m\u001b[0;34m,\u001b[0m \u001b[0mnp\u001b[0m\u001b[0;34m.\u001b[0m\u001b[0msubtract\u001b[0m\u001b[0;34m(\u001b[0m\u001b[0mnp\u001b[0m\u001b[0;34m.\u001b[0m\u001b[0msum\u001b[0m\u001b[0;34m(\u001b[0m\u001b[0mg2_conc\u001b[0m\u001b[0;34m,\u001b[0m \u001b[0mg1_conc\u001b[0m\u001b[0;34m)\u001b[0m\u001b[0;34m,\u001b[0m \u001b[0mgsp1gdp\u001b[0m\u001b[0;34m)\u001b[0m\u001b[0;34m)\u001b[0m\u001b[0;34m\u001b[0m\u001b[0;34m\u001b[0m\u001b[0m\n\u001b[0m\u001b[1;32m     11\u001b[0m \u001b[0;34m\u001b[0m\u001b[0m\n\u001b[1;32m     12\u001b[0m \u001b[0;34m\u001b[0m\u001b[0m\n",
      "\u001b[0;32m<__array_function__ internals>\u001b[0m in \u001b[0;36msum\u001b[0;34m(*args, **kwargs)\u001b[0m\n",
      "\u001b[0;32m~/miniconda3/envs/lab/lib/python3.7/site-packages/numpy/core/fromnumeric.py\u001b[0m in \u001b[0;36msum\u001b[0;34m(a, axis, dtype, out, keepdims, initial, where)\u001b[0m\n\u001b[1;32m   2227\u001b[0m \u001b[0;34m\u001b[0m\u001b[0m\n\u001b[1;32m   2228\u001b[0m     return _wrapreduction(a, np.add, 'sum', axis, dtype, out, keepdims=keepdims,\n\u001b[0;32m-> 2229\u001b[0;31m                           initial=initial, where=where)\n\u001b[0m\u001b[1;32m   2230\u001b[0m \u001b[0;34m\u001b[0m\u001b[0m\n\u001b[1;32m   2231\u001b[0m \u001b[0;34m\u001b[0m\u001b[0m\n",
      "\u001b[0;32m~/miniconda3/envs/lab/lib/python3.7/site-packages/numpy/core/fromnumeric.py\u001b[0m in \u001b[0;36m_wrapreduction\u001b[0;34m(obj, ufunc, method, axis, dtype, out, **kwargs)\u001b[0m\n\u001b[1;32m     88\u001b[0m                 \u001b[0;32mreturn\u001b[0m \u001b[0mreduction\u001b[0m\u001b[0;34m(\u001b[0m\u001b[0maxis\u001b[0m\u001b[0;34m=\u001b[0m\u001b[0maxis\u001b[0m\u001b[0;34m,\u001b[0m \u001b[0mout\u001b[0m\u001b[0;34m=\u001b[0m\u001b[0mout\u001b[0m\u001b[0;34m,\u001b[0m \u001b[0;34m**\u001b[0m\u001b[0mpasskwargs\u001b[0m\u001b[0;34m)\u001b[0m\u001b[0;34m\u001b[0m\u001b[0;34m\u001b[0m\u001b[0m\n\u001b[1;32m     89\u001b[0m \u001b[0;34m\u001b[0m\u001b[0m\n\u001b[0;32m---> 90\u001b[0;31m     \u001b[0;32mreturn\u001b[0m \u001b[0mufunc\u001b[0m\u001b[0;34m.\u001b[0m\u001b[0mreduce\u001b[0m\u001b[0;34m(\u001b[0m\u001b[0mobj\u001b[0m\u001b[0;34m,\u001b[0m \u001b[0maxis\u001b[0m\u001b[0;34m,\u001b[0m \u001b[0mdtype\u001b[0m\u001b[0;34m,\u001b[0m \u001b[0mout\u001b[0m\u001b[0;34m,\u001b[0m \u001b[0;34m**\u001b[0m\u001b[0mpasskwargs\u001b[0m\u001b[0;34m)\u001b[0m\u001b[0;34m\u001b[0m\u001b[0;34m\u001b[0m\u001b[0m\n\u001b[0m\u001b[1;32m     91\u001b[0m \u001b[0;34m\u001b[0m\u001b[0m\n\u001b[1;32m     92\u001b[0m \u001b[0;34m\u001b[0m\u001b[0m\n",
      "\u001b[0;31mTypeError\u001b[0m: only integer scalar arrays can be converted to a scalar index"
     ]
    },
    {
     "data": {
      "text/plain": [
       "<Figure size 432x288 with 0 Axes>"
      ]
     },
     "metadata": {},
     "output_type": "display_data"
    }
   ],
   "source": [
    "fig = plt.figure()\n",
    "for query in queries:\n",
    "    \n",
    "    g2_conc = query.concentrations[0][:, g2.index]\n",
    "    g1_conc = query.concentrations[0][:, g1.index]\n",
    "    \n",
    "    gtp_conc = np.add(g1_conc, g2_conc)\n",
    "    gdp_conc = query.concentrations[0][:, gsp1gdp.index]\n",
    "    \n",
    "    frac_g2 = np.divide(g2_conc, np.subtract(np.sum(g2_conc, g1_conc), gsp1gdp))\n",
    "\n",
    "            \n",
    "#     plt.plot(query.t/60, gtp_conc, label=query.name)\n",
    "    plt.plot(query.t/60, np.add(gtp_conc, gdp_conc), label=query.name)\n",
    "plt.xlabel('minutes')\n",
    "plt.ylabel('Percent state II')\n",
    "plt.legend()\n",
    "plt.show()"
   ]
  },
  {
   "cell_type": "code",
   "execution_count": 18,
   "metadata": {},
   "outputs": [
    {
     "data": {
      "text/plain": [
       "6.96"
      ]
     },
     "execution_count": 18,
     "metadata": {},
     "output_type": "execute_result"
    }
   ],
   "source": [
    "# make figure and axes objects so you can programmatically update\n",
    "\n",
    "# want to plot, for each parameter set, the progress curve, \n",
    "\n",
    "fig, axes = plt.subplots(nrows = )"
   ]
  },
  {
   "cell_type": "code",
   "execution_count": null,
   "metadata": {},
   "outputs": [],
   "source": []
  }
 ],
 "metadata": {
  "kernelspec": {
   "display_name": "Python 3",
   "language": "python",
   "name": "python3"
  },
  "language_info": {
   "codemirror_mode": {
    "name": "ipython",
    "version": 3
   },
   "file_extension": ".py",
   "mimetype": "text/x-python",
   "name": "python",
   "nbconvert_exporter": "python",
   "pygments_lexer": "ipython3",
   "version": "3.7.7"
  }
 },
 "nbformat": 4,
 "nbformat_minor": 4
}
